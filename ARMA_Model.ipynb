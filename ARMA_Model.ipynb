{
 "cells": [
  {
   "cell_type": "code",
   "execution_count": 1,
   "metadata": {},
   "outputs": [],
   "source": [
    "from __future__ import print_function\n",
    "import numpy as np\n",
    "import statsmodels.api as sm\n",
    "import pandas as pd\n",
    "from statsmodels.tsa.arima_process import arma_generate_sample\n",
    "np.random.seed(12345)"
   ]
  },
  {
   "cell_type": "code",
   "execution_count": 2,
   "metadata": {},
   "outputs": [],
   "source": [
    "arparams = np.array([.75, -.25])\n",
    "maparams = np.array([.65, .35])"
   ]
  },
  {
   "cell_type": "code",
   "execution_count": 7,
   "metadata": {},
   "outputs": [],
   "source": [
    "yy = pd.read_csv(\"C:/Users/Jeff/Documents/VIT_University/data/sunspots.csv\")\n",
    "yy.index = pd.Index(sm.tsa.datetools.dates_from_range('1900', '2208'))\n",
    "del yy[\"YEAR\"]"
   ]
  },
  {
   "cell_type": "code",
   "execution_count": 8,
   "metadata": {},
   "outputs": [
    {
     "name": "stderr",
     "output_type": "stream",
     "text": [
      "C:\\Users\\jeff\\Anaconda3\\lib\\site-packages\\statsmodels\\tsa\\base\\tsa_model.py:171: ValueWarning: No frequency information was provided, so inferred frequency A-DEC will be used.\n",
      "  % freq, ValueWarning)\n"
     ]
    }
   ],
   "source": [
    "arma_mod = sm.tsa.ARMA(yy, order=(2,1))\n",
    "arma_res = arma_mod.fit(trend='nc', disp=-1)"
   ]
  },
  {
   "cell_type": "code",
   "execution_count": 9,
   "metadata": {},
   "outputs": [
    {
     "name": "stdout",
     "output_type": "stream",
     "text": [
      "                              ARMA Model Results                              \n",
      "==============================================================================\n",
      "Dep. Variable:            SUNACTIVITY   No. Observations:                  309\n",
      "Model:                     ARMA(2, 1)   Log Likelihood               -1346.092\n",
      "Method:                       css-mle   S.D. of innovations             18.778\n",
      "Date:                Sun, 01 Jul 2018   AIC                           2700.184\n",
      "Time:                        10:44:39   BIC                           2715.118\n",
      "Sample:                    12-31-1900   HQIC                          2706.155\n",
      "                         - 12-31-2208                                         \n",
      "=====================================================================================\n",
      "                        coef    std err          z      P>|z|      [0.025      0.975]\n",
      "-------------------------------------------------------------------------------------\n",
      "ar.L1.SUNACTIVITY     1.4074      0.068     20.784      0.000       1.275       1.540\n",
      "ar.L2.SUNACTIVITY    -0.5255      0.066     -8.012      0.000      -0.654      -0.397\n",
      "ma.L1.SUNACTIVITY     0.1185      0.070      1.689      0.092      -0.019       0.256\n",
      "                                    Roots                                    \n",
      "=============================================================================\n",
      "                  Real          Imaginary           Modulus         Frequency\n",
      "-----------------------------------------------------------------------------\n",
      "AR.1            1.3392           -0.3309j            1.3795           -0.0386\n",
      "AR.2            1.3392           +0.3309j            1.3795            0.0386\n",
      "MA.1           -8.4397           +0.0000j            8.4397            0.5000\n",
      "-----------------------------------------------------------------------------\n"
     ]
    }
   ],
   "source": [
    "print(arma_res.summary())"
   ]
  },
  {
   "cell_type": "code",
   "execution_count": null,
   "metadata": {
    "collapsed": true
   },
   "outputs": [],
   "source": []
  }
 ],
 "metadata": {
  "kernelspec": {
   "display_name": "Python 3",
   "language": "python",
   "name": "python3"
  },
  "language_info": {
   "codemirror_mode": {
    "name": "ipython",
    "version": 3
   },
   "file_extension": ".py",
   "mimetype": "text/x-python",
   "name": "python",
   "nbconvert_exporter": "python",
   "pygments_lexer": "ipython3",
   "version": "3.6.5"
  }
 },
 "nbformat": 4,
 "nbformat_minor": 1
}
